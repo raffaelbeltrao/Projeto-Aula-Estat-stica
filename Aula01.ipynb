{
 "cells": [
  {
   "cell_type": "markdown",
   "id": "8a2d138e",
   "metadata": {},
   "source": [
    "# Meu querido Notebook"
   ]
  },
  {
   "cell_type": "markdown",
   "id": "a6265024",
   "metadata": {},
   "source": [
    "Estou fazendo um notebook. kk eae men\n",
    "Esta é a nossa aula de python"
   ]
  },
  {
   "cell_type": "markdown",
   "id": "63e86fc1",
   "metadata": {},
   "source": [
    " ## Meu primeiro código pyhton"
   ]
  },
  {
   "cell_type": "code",
   "execution_count": 3,
   "id": "9ed413c2",
   "metadata": {},
   "outputs": [
    {
     "name": "stdout",
     "output_type": "stream",
     "text": [
      "kk eae men\n"
     ]
    }
   ],
   "source": [
    "print (\"kk eae men\")"
   ]
  }
 ],
 "metadata": {
  "kernelspec": {
   "display_name": "Python 3",
   "language": "python",
   "name": "python3"
  },
  "language_info": {
   "codemirror_mode": {
    "name": "ipython",
    "version": 3
   },
   "file_extension": ".py",
   "mimetype": "text/x-python",
   "name": "python",
   "nbconvert_exporter": "python",
   "pygments_lexer": "ipython3",
   "version": "3.12.1"
  }
 },
 "nbformat": 4,
 "nbformat_minor": 5
}
