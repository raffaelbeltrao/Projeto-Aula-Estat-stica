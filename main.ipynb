{
 "cells": [
  {
   "cell_type": "markdown",
   "id": "5e4e3343",
   "metadata": {},
   "source": [
    "# Bacana Demais"
   ]
  },
  {
   "cell_type": "markdown",
   "id": "735115eb",
   "metadata": {},
   "source": [
    "## Isso é muito legal uhuuuu"
   ]
  },
  {
   "cell_type": "markdown",
   "id": "4397497b",
   "metadata": {},
   "source": [
    "``\n",
    "Markdown é paia\n",
    "``"
   ]
  },
  {
   "cell_type": "markdown",
   "id": "8a106b5e",
   "metadata": {},
   "source": [
    "```\n",
    "AAAAAAAAAAAAAAAAAAAAAAAAAAAAAAAAAAAAAAAAAAAAAAAAAAAAAAA\n",
    "```"
   ]
  },
  {
   "cell_type": "code",
   "execution_count": 4,
   "id": "bc49c4f1",
   "metadata": {},
   "outputs": [
    {
     "name": "stdout",
     "output_type": "stream",
     "text": [
      "legal\n"
     ]
    }
   ],
   "source": [
    "print(\"legal\")"
   ]
  }
 ],
 "metadata": {
  "kernelspec": {
   "display_name": "Python 3",
   "language": "python",
   "name": "python3"
  },
  "language_info": {
   "codemirror_mode": {
    "name": "ipython",
    "version": 3
   },
   "file_extension": ".py",
   "mimetype": "text/x-python",
   "name": "python",
   "nbconvert_exporter": "python",
   "pygments_lexer": "ipython3",
   "version": "3.12.1"
  }
 },
 "nbformat": 4,
 "nbformat_minor": 5
}
